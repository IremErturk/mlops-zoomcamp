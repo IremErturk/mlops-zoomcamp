{
 "cells": [
  {
   "cell_type": "markdown",
   "id": "1293e6f8",
   "metadata": {},
   "source": [
    "#### Q1. Install MLflow\n",
    "To get started with MLflow you'll need to install the MLflow Python package.\n",
    "\n",
    "For this we recommend creating a separate Python environment, for example, you can use conda environments, and then install the package there with pip or conda.\n",
    "\n",
    "Once you installed the package, run the command mlflow --version and check the output.\n",
    "\n",
    "What's the version that you have?\n",
    "\n"
   ]
  },
  {
   "cell_type": "code",
   "execution_count": 1,
   "id": "88643018",
   "metadata": {
    "ExecuteTime": {
     "end_time": "2022-05-27T22:09:45.301593Z",
     "start_time": "2022-05-27T22:09:44.336661Z"
    }
   },
   "outputs": [
    {
     "name": "stdout",
     "output_type": "stream",
     "text": [
      "mlflow, version 1.26.0\r\n"
     ]
    }
   ],
   "source": [
    "! mlflow --version"
   ]
  },
  {
   "cell_type": "markdown",
   "id": "695a10e9",
   "metadata": {
    "heading_collapsed": true
   },
   "source": [
    "#### Q2. Download and preprocess the data\n",
    "We'll use the same dataset used in the videos of the 1st and 2nd module: \"Green Taxi Trip Records\".\n",
    "\n",
    "\n",
    "1. Download the data for January, February and March 2021 in parquet format from [here](https://www1.nyc.gov/site/tlc/about/tlc-trip-record-data.page).\n",
    "\n",
    "2. Use the script *preprocess_data.py* located in the folder homework to preprocess the data.\n",
    "\n",
    "        The script will \n",
    "        - load the data from the folder <TAXI_DATA_FOLDER> (the folder where you have downloaded the data),\n",
    "        - fit a DictVectorizer on the training set (January 2021 data), \n",
    "        - save the preprocessed datasets and the model to disk\n",
    "\n",
    "\n",
    "Your task is to download the datasets and then execute this command:\n",
    "\n",
    "```bash\n",
    "python preprocess_data.py --raw_data_path <TAXI_DATA_FOLDER> --dest_path ./output\n",
    "```\n",
    "\n",
    "~~Tip: go to 02-experiment-tracking/homework/ folder before executing the command and change the value of <TAXI_DATA_FOLDER> to the location where you saved the data.~~\n",
    "\n",
    "How many files were saved to OUTPUT_FOLDER?\n",
    "\n",
    "- [] 1\n",
    "- [] 3\n",
    "- [x] 4\n",
    "- [] 7"
   ]
  },
  {
   "cell_type": "code",
   "execution_count": null,
   "id": "03d93311",
   "metadata": {
    "hidden": true
   },
   "outputs": [],
   "source": [
    "RAW_DATA_PATH =\"./artifacts/data/raw\"\n",
    "PROCESSED_DATA_PATH =\"./artifacts/data/processed\""
   ]
  },
  {
   "cell_type": "code",
   "execution_count": 2,
   "id": "f7e24181",
   "metadata": {
    "ExecuteTime": {
     "end_time": "2022-05-27T22:10:14.631452Z",
     "start_time": "2022-05-27T22:10:09.060877Z"
    },
    "hidden": true
   },
   "outputs": [
    {
     "name": "stdout",
     "output_type": "stream",
     "text": [
      "mkdir: artifacts: File exists\n",
      "mkdir: artifacts/data: File exists\n",
      "mkdir: artifacts/data/raw: File exists\n",
      "mkdir: artifacts/data/processed: File exists\n",
      "https://nyc-tlc.s3.amazonaws.com/trip+data/green_tripdata_2021-01.parquet\n",
      "https://nyc-tlc.s3.amazonaws.com/trip+data/green_tripdata_2021-02.parquet\n",
      "https://nyc-tlc.s3.amazonaws.com/trip+data/green_tripdata_2021-03.parquet\n"
     ]
    }
   ],
   "source": [
    "# Step 1: Install Data\n",
    "# Prepare Environment\n",
    "!mkdir artifacts\n",
    "!mkdir artifacts/data\n",
    "!mkdir artifacts/data/raw\n",
    "!mkdir artifacts/data/processed\n",
    "\n",
    "\n",
    "# Download 2021 January, February and March data\n",
    "!python download_file.py  --raw_data_path ./artifacts/data/raw --file_identifier 2021-01\n",
    "!python download_file.py  --raw_data_path ./artifacts/data/raw --file_identifier 2021-02\n",
    "!python download_file.py  --raw_data_path ./artifacts/data/raw --file_identifier 2021-03"
   ]
  },
  {
   "cell_type": "code",
   "execution_count": 3,
   "id": "ea741c84",
   "metadata": {
    "ExecuteTime": {
     "end_time": "2022-05-27T22:10:18.894774Z",
     "start_time": "2022-05-27T22:10:16.882736Z"
    },
    "hidden": true
   },
   "outputs": [],
   "source": [
    "# Step 2: Preprocess Data\n",
    "!python preprocess_data.py --raw_data_path ./artifacts/data/raw --dest_path ./artifacts/data/processed"
   ]
  },
  {
   "cell_type": "markdown",
   "id": "8adb100b",
   "metadata": {},
   "source": [
    "#### Q3. We will train a random forest regressor on the taxi dataset.\n",
    "\n",
    "We have prepared the training script *train.py* for this exercise, which can be also found in the folder homework. The script will load the datasets produced by the previous step, train the model on the training set and finally calculate the RMSE on the validation set.\n",
    "\n",
    "Your task is to modify the script to enable autologging with MLflow, execute the script and then launch the MLflow UI to check that the experiment run was properly tracked.\n",
    "\n",
    "\n",
    "- Tip 1: don't forget to wrap the training code with a with mlflow.start_run(): statement as we showed in the videos.\n",
    "\n",
    "- Tip 2: don't modify the hyperparameters of the model to make sure that the training will finish quickly.\n",
    "\n",
    "How many parameters are automatically logged by MLflow?\n",
    "\n",
    "- [] 19\n",
    "- [x] 17\n",
    "- [] 10\n",
    "- [] 20"
   ]
  },
  {
   "cell_type": "code",
   "execution_count": 5,
   "id": "03b4fd7f",
   "metadata": {
    "ExecuteTime": {
     "end_time": "2022-05-27T22:11:33.691519Z",
     "start_time": "2022-05-27T22:11:22.595358Z"
    }
   },
   "outputs": [
    {
     "name": "stdout",
     "output_type": "stream",
     "text": [
      "2022/05/28 00:11:23 WARNING mlflow.utils.autologging_utils: You are using an unsupported version of sklearn. If you encounter errors during autologging, try upgrading / downgrading sklearn to a supported version, or try upgrading MLflow.\n",
      "2022/05/28 00:11:33 WARNING mlflow.utils.autologging_utils: MLflow autologging encountered a warning: \"/Users/iremertuerk/workspace-personal/mlops-zoomcamp/.venv/lib/python3.8/site-packages/_distutils_hack/__init__.py:30: UserWarning: Setuptools is replacing distutils.\"\n"
     ]
    }
   ],
   "source": [
    "! python train.py"
   ]
  },
  {
   "cell_type": "markdown",
   "id": "5c23a742",
   "metadata": {
    "heading_collapsed": true
   },
   "source": [
    "#### Q4. Launch the tracking server locally\n",
    "\n",
    "We want to manage the entire lifecycle of our ML model. In this step, you'll need to launch a tracking server. This way we will also have access to the model registry.\n",
    "\n",
    "Your task is to\n",
    "- launch the tracking server on your local machine\n",
    "- select a SQLite db for the backend store and a folder called artifacts for the artifacts store\n",
    "\n",
    "PS: You should keep the tracking server running to work on the next two exercises that use the server.\n",
    "\n",
    "In addition to backend-store-uri, what else do you need to pass to properly configure the server?\n",
    "\n",
    "- [x] default-artifact-root\n",
    "- [x] serve-artifacts\n",
    "- [] artifacts-only\n",
    "- [x] artifacts-destination"
   ]
  },
  {
   "cell_type": "code",
   "execution_count": null,
   "id": "c2b8d22e",
   "metadata": {
    "hidden": true
   },
   "outputs": [],
   "source": [
    "! mlflow ui --backend-store-uri sqlite:///mlflow.db --artifacts-destination ./artifacts/mlartifacts --serve-artifacts"
   ]
  },
  {
   "cell_type": "markdown",
   "id": "3515aa69",
   "metadata": {
    "ExecuteTime": {
     "end_time": "2022-05-27T22:14:26.419026Z",
     "start_time": "2022-05-27T22:14:26.401541Z"
    },
    "hidden": true
   },
   "source": [
    "READ: \n",
    "- [mlflow-with-remote-tracking-server-backend-and-artifact-stores](https://www.mlflow.org/docs/latest/tracking.html#scenario-4-mlflow-with-remote-tracking-server-backend-and-artifact-stores)"
   ]
  },
  {
   "cell_type": "markdown",
   "id": "0934afee",
   "metadata": {},
   "source": [
    "#### Q5. Tune the hyperparameters of the model\n",
    "\n",
    "Now let's try to reduce the validation error by tuning the hyperparameters of the random forest regressor using hyperopt. We have prepared the script `hpo.py` for this exercise.\n",
    "\n",
    "Your task is to modify the script `hpo.py` and make sure that the validation RMSE is logged to MLflow for each run of the hyperparameter optimization Tip:(you will need to add a few lines of code to the objective function) and run the script without passing any parameters.\n",
    "\n",
    "After that, open the MLflow UI and explore the runs from the experiment called `random-forest-hyperopt` to answer the question below.\n",
    "\n",
    "Hints: Don't use autologging for this exercise.The idea is to just log the information that you need to answer the question below, including:\n",
    "- the list of hyperparameters that are passed to the objective function during the optimization.\n",
    "- the RMSE obtained on the validation set (February 2021 data).\n",
    "\n",
    "\n",
    "What's the best validation RMSE that you got?\n",
    "\n",
    "- [] 6.128\n",
    "- [x] 6.628\n",
    "- [] 7.128\n",
    "- [] 7.628\n"
   ]
  },
  {
   "cell_type": "code",
   "execution_count": 7,
   "id": "71ab30a5",
   "metadata": {
    "ExecuteTime": {
     "end_time": "2022-05-27T22:19:01.684727Z",
     "start_time": "2022-05-27T22:16:13.055527Z"
    }
   },
   "outputs": [
    {
     "name": "stdout",
     "output_type": "stream",
     "text": [
      "100%|█████████| 50/50 [02:47<00:00,  3.35s/trial, best loss: 6.6284257482044735]\n"
     ]
    }
   ],
   "source": [
    "! python hpo.py"
   ]
  },
  {
   "cell_type": "markdown",
   "id": "2d06a817",
   "metadata": {},
   "source": [
    "#### Q6. Promote the best model to the model registry\n",
    "\n",
    "The results from the hyperparameter optimization are quite good so we can assume that we are ready to test some of these models in production. In this exercise, you'll promote the best model to the model registry. We have prepared a script called register_model.py, which will check the results from the previous step and select the top 5 runs. After that, it will calculate the RMSE of those models on the test set (March 2021 data) and save the results to a new experiment called random-forest-best-models.\n",
    "\n",
    "Your task is to update the script register_model.py so that it selects the model with the lowest RMSE on the test set and registers it to the model registry.\n",
    "\n",
    "Tip 1: you can use the method search_runs from the `MlflowClient` to get the model with the lowest RMSE. \n",
    "Tip 2: to register the model you can use the method `mlflow.register_model` and you will need to pass the right `model_uri` in the form of a string that looks like this: `runs:/<RUN_ID>/model`, and the `name of the model` (make sure to choose a good one!).\n",
    "\n",
    "What is the test RMSE of the best model?\n",
    "\n",
    "- [] 6.1\n",
    "- [x] 6.55\n",
    "- [] 7.93\n",
    "- [] 15.1"
   ]
  },
  {
   "cell_type": "code",
   "execution_count": 8,
   "id": "be88ff43",
   "metadata": {
    "ExecuteTime": {
     "end_time": "2022-05-27T22:19:44.258251Z",
     "start_time": "2022-05-27T22:19:07.611292Z"
    }
   },
   "outputs": [
    {
     "name": "stdout",
     "output_type": "stream",
     "text": [
      "2022/05/28 00:19:08 WARNING mlflow.utils.autologging_utils: You are using an unsupported version of sklearn. If you encounter errors during autologging, try upgrading / downgrading sklearn to a supported version, or try upgrading MLflow.\n",
      "2022/05/28 00:19:15 WARNING mlflow.utils.autologging_utils: MLflow autologging encountered a warning: \"/Users/iremertuerk/workspace-personal/mlops-zoomcamp/.venv/lib/python3.8/site-packages/_distutils_hack/__init__.py:30: UserWarning: Setuptools is replacing distutils.\"\n",
      "<Experiment: artifact_location='./mlruns/3', experiment_id='3', lifecycle_stage='active', name='random-forest-best-models', tags={}>\n",
      "Best Run <RunInfo: artifact_uri='./mlruns/3/1d60d49a732f4db9ab3fe297903d35a2/artifacts', end_time=1653689983901, experiment_id='3', lifecycle_stage='active', run_id='1d60d49a732f4db9ab3fe297903d35a2', run_uuid='1d60d49a732f4db9ab3fe297903d35a2', start_time=1653689975431, status='FINISHED', user_id='iremertuerk'>\n",
      "Registered model 'RandomForestRegressionModel' already exists. Creating a new version of this model...\n",
      "2022/05/28 00:19:43 INFO mlflow.tracking._model_registry.client: Waiting up to 300 seconds for model version to finish creation.                     Model name: RandomForestRegressionModel, version 2\n",
      "Created version '2' of model 'RandomForestRegressionModel'.\n",
      "Model successfull registered, Name: RandomForestRegressionModel, Version 2\n"
     ]
    }
   ],
   "source": [
    "! python register_model.py"
   ]
  },
  {
   "cell_type": "code",
   "execution_count": null,
   "id": "f17e5bf0",
   "metadata": {},
   "outputs": [],
   "source": []
  }
 ],
 "metadata": {
  "kernelspec": {
   "display_name": "Python 3 (ipykernel)",
   "language": "python",
   "name": "python3"
  },
  "language_info": {
   "codemirror_mode": {
    "name": "ipython",
    "version": 3
   },
   "file_extension": ".py",
   "mimetype": "text/x-python",
   "name": "python",
   "nbconvert_exporter": "python",
   "pygments_lexer": "ipython3",
   "version": "3.8.9"
  },
  "toc": {
   "base_numbering": 1,
   "nav_menu": {},
   "number_sections": true,
   "sideBar": true,
   "skip_h1_title": false,
   "title_cell": "Table of Contents",
   "title_sidebar": "Contents",
   "toc_cell": false,
   "toc_position": {},
   "toc_section_display": true,
   "toc_window_display": false
  }
 },
 "nbformat": 4,
 "nbformat_minor": 5
}
