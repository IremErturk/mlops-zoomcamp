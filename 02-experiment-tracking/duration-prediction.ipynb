{
 "cells": [
  {
   "cell_type": "code",
   "execution_count": 11,
   "id": "41062d8a",
   "metadata": {
    "ExecuteTime": {
     "end_time": "2022-05-27T22:29:11.220452Z",
     "start_time": "2022-05-27T22:29:11.212781Z"
    }
   },
   "outputs": [],
   "source": [
    "import pandas as pd\n",
    "import urllib.request"
   ]
  },
  {
   "cell_type": "code",
   "execution_count": 2,
   "id": "c984c564",
   "metadata": {
    "ExecuteTime": {
     "end_time": "2022-05-27T22:26:19.043345Z",
     "start_time": "2022-05-27T22:26:19.035580Z"
    }
   },
   "outputs": [],
   "source": [
    "import pickle"
   ]
  },
  {
   "cell_type": "code",
   "execution_count": 3,
   "id": "4add538c",
   "metadata": {
    "ExecuteTime": {
     "end_time": "2022-05-27T22:26:21.000966Z",
     "start_time": "2022-05-27T22:26:20.450054Z"
    }
   },
   "outputs": [],
   "source": [
    "import seaborn as sns\n",
    "import matplotlib.pyplot as plt"
   ]
  },
  {
   "cell_type": "code",
   "execution_count": 4,
   "id": "beb8a76c",
   "metadata": {
    "ExecuteTime": {
     "end_time": "2022-05-27T22:26:21.843717Z",
     "start_time": "2022-05-27T22:26:21.763029Z"
    }
   },
   "outputs": [],
   "source": [
    "from sklearn.feature_extraction import DictVectorizer\n",
    "from sklearn.linear_model import LinearRegression\n",
    "from sklearn.linear_model import Lasso\n",
    "from sklearn.linear_model import Ridge\n",
    "\n",
    "from sklearn.metrics import mean_squared_error"
   ]
  },
  {
   "cell_type": "code",
   "execution_count": 5,
   "id": "1c809c45",
   "metadata": {
    "ExecuteTime": {
     "end_time": "2022-05-27T22:26:24.320606Z",
     "start_time": "2022-05-27T22:26:24.221393Z"
    }
   },
   "outputs": [],
   "source": [
    "import xgboost as xgb"
   ]
  },
  {
   "cell_type": "code",
   "execution_count": 6,
   "id": "eb02dd5a",
   "metadata": {
    "ExecuteTime": {
     "end_time": "2022-05-27T22:26:25.509192Z",
     "start_time": "2022-05-27T22:26:25.422751Z"
    }
   },
   "outputs": [],
   "source": [
    "# Helps to minimize the objective function\n",
    "# Helps to optimize hyperparameters\n",
    "from hyperopt import fmin, tpe, hp, STATUS_OK, Trials\n",
    "from hyperopt.pyll import scope"
   ]
  },
  {
   "cell_type": "code",
   "execution_count": 7,
   "id": "202af744",
   "metadata": {
    "ExecuteTime": {
     "end_time": "2022-05-27T22:26:26.653972Z",
     "start_time": "2022-05-27T22:26:26.609383Z"
    }
   },
   "outputs": [],
   "source": [
    "from sklearn.ensemble import RandomForestRegressor, GradientBoostingRegressor, ExtraTreesRegressor\n",
    "from sklearn.svm import LinearSVR"
   ]
  },
  {
   "cell_type": "markdown",
   "id": "3dfd0e00",
   "metadata": {
    "heading_collapsed": true
   },
   "source": [
    "#### Download Files"
   ]
  },
  {
   "cell_type": "code",
   "execution_count": 15,
   "id": "94db482c",
   "metadata": {
    "ExecuteTime": {
     "end_time": "2022-05-27T22:31:31.129865Z",
     "start_time": "2022-05-27T22:31:31.118294Z"
    },
    "hidden": true
   },
   "outputs": [],
   "source": [
    "TRIP_DATA_BASE_URL = \"https://nyc-tlc.s3.amazonaws.com/trip+data\"\n",
    "DATASET_NAME = \"fhv_tripdata\""
   ]
  },
  {
   "cell_type": "code",
   "execution_count": 16,
   "id": "dc292834",
   "metadata": {
    "ExecuteTime": {
     "end_time": "2022-05-27T22:31:32.241029Z",
     "start_time": "2022-05-27T22:31:32.229641Z"
    },
    "hidden": true
   },
   "outputs": [],
   "source": [
    "def download_file(file_identifier: str, output_path:str):\n",
    "    file_url = f'{TRIP_DATA_BASE_URL}/{DATASET_NAME}_{file_identifier}.parquet'\n",
    "    print(file_url)\n",
    "    \n",
    "    response = urllib.request.urlopen(file_url)\n",
    "    f = open(f\"{output_path}/{DATASET_NAME}_{file_identifier}.parquet\", 'wb')\n",
    "    f.write(response.read())\n",
    "    f.close()"
   ]
  },
  {
   "cell_type": "code",
   "execution_count": 17,
   "id": "b12f4096",
   "metadata": {
    "ExecuteTime": {
     "end_time": "2022-05-27T22:31:39.228379Z",
     "start_time": "2022-05-27T22:31:34.044363Z"
    },
    "hidden": true
   },
   "outputs": [
    {
     "name": "stdout",
     "output_type": "stream",
     "text": [
      "https://nyc-tlc.s3.amazonaws.com/trip+data/fhv_tripdata_2021-01.parquet\n",
      "https://nyc-tlc.s3.amazonaws.com/trip+data/fhv_tripdata_2021-02.parquet\n"
     ]
    }
   ],
   "source": [
    "download_file(\"2021-01\", \"../artifacts/data\")\n",
    "download_file(\"2021-02\", \"../artifacts/data\")"
   ]
  },
  {
   "cell_type": "markdown",
   "id": "cf63fbb9",
   "metadata": {
    "heading_collapsed": true
   },
   "source": [
    "#### Read Parquets"
   ]
  },
  {
   "cell_type": "code",
   "execution_count": 18,
   "id": "f9e6479e",
   "metadata": {
    "ExecuteTime": {
     "end_time": "2022-05-27T22:31:52.735173Z",
     "start_time": "2022-05-27T22:31:52.726735Z"
    },
    "hidden": true
   },
   "outputs": [],
   "source": [
    "def read_dataframe(filename):\n",
    "    df = pd.read_parquet(filename, engine=\"pyarrow\")\n",
    "\n",
    "    df.dropOff_datetime = pd.to_datetime(df.dropOff_datetime)\n",
    "    df.pickup_datetime = pd.to_datetime(df.pickup_datetime)\n",
    "\n",
    "    df['duration'] = df.dropOff_datetime - df.pickup_datetime\n",
    "    df.duration = df.duration.apply(lambda td: td.total_seconds() / 60)\n",
    "\n",
    "    df = df[(df.duration >= 1) & (df.duration <= 60)]\n",
    "\n",
    "    categorical = ['PUlocationID', 'DOlocationID']\n",
    "    df[categorical] = df[categorical].astype(str)\n",
    "    \n",
    "    return df"
   ]
  },
  {
   "cell_type": "code",
   "execution_count": 19,
   "id": "4724d557",
   "metadata": {
    "ExecuteTime": {
     "end_time": "2022-05-27T22:32:03.282304Z",
     "start_time": "2022-05-27T22:31:55.420910Z"
    },
    "hidden": true
   },
   "outputs": [],
   "source": [
    "df_train = read_dataframe('../artifacts/data/fhv_tripdata_2021-01.parquet')\n",
    "df_val = read_dataframe('../artifacts/data/fhv_tripdata_2021-02.parquet')"
   ]
  },
  {
   "cell_type": "code",
   "execution_count": 20,
   "id": "01f9a5c1",
   "metadata": {
    "ExecuteTime": {
     "end_time": "2022-05-27T22:32:05.339230Z",
     "start_time": "2022-05-27T22:32:05.320075Z"
    },
    "hidden": true
   },
   "outputs": [
    {
     "data": {
      "text/plain": [
       "(1109826, 990113)"
      ]
     },
     "execution_count": 20,
     "metadata": {},
     "output_type": "execute_result"
    }
   ],
   "source": [
    "len(df_train), len(df_val)"
   ]
  },
  {
   "cell_type": "markdown",
   "id": "032ad6d4",
   "metadata": {
    "heading_collapsed": true
   },
   "source": [
    "#### Preprocess"
   ]
  },
  {
   "cell_type": "code",
   "execution_count": 21,
   "id": "700eebc2",
   "metadata": {
    "ExecuteTime": {
     "end_time": "2022-05-27T22:32:14.188833Z",
     "start_time": "2022-05-27T22:32:13.994600Z"
    },
    "hidden": true
   },
   "outputs": [],
   "source": [
    "df_train['PU_DO'] = df_train['PUlocationID'] + '_' + df_train['DOlocationID']\n",
    "df_val['PU_DO'] = df_val['PUlocationID'] + '_' + df_val['DOlocationID']"
   ]
  },
  {
   "cell_type": "code",
   "execution_count": 22,
   "id": "951d51ef",
   "metadata": {
    "ExecuteTime": {
     "end_time": "2022-05-27T22:32:18.439177Z",
     "start_time": "2022-05-27T22:32:15.226965Z"
    },
    "hidden": true
   },
   "outputs": [],
   "source": [
    "categorical = ['PU_DO'] #'PULocationID', 'DOLocationID']\n",
    "\n",
    "dv = DictVectorizer()\n",
    "\n",
    "train_dicts = df_train[categorical].to_dict(orient='records')\n",
    "X_train = dv.fit_transform(train_dicts)\n",
    "\n",
    "val_dicts = df_val[categorical].to_dict(orient='records')\n",
    "X_val = dv.transform(val_dicts)"
   ]
  },
  {
   "cell_type": "code",
   "execution_count": 23,
   "id": "1e9fb68b",
   "metadata": {
    "ExecuteTime": {
     "end_time": "2022-05-27T22:32:21.363353Z",
     "start_time": "2022-05-27T22:32:21.352958Z"
    },
    "hidden": true
   },
   "outputs": [],
   "source": [
    "target = 'duration'\n",
    "y_train = df_train[target].values\n",
    "y_val = df_val[target].values"
   ]
  },
  {
   "cell_type": "markdown",
   "id": "b14f56a1",
   "metadata": {
    "heading_collapsed": true
   },
   "source": [
    "#### Model Training "
   ]
  },
  {
   "cell_type": "code",
   "execution_count": 24,
   "id": "429e2394",
   "metadata": {
    "ExecuteTime": {
     "end_time": "2022-05-27T22:32:33.988936Z",
     "start_time": "2022-05-27T22:32:30.588641Z"
    },
    "hidden": true
   },
   "outputs": [
    {
     "data": {
      "text/plain": [
       "10.596251398155163"
      ]
     },
     "execution_count": 24,
     "metadata": {},
     "output_type": "execute_result"
    }
   ],
   "source": [
    "lr = LinearRegression()\n",
    "lr.fit(X_train, y_train)\n",
    "\n",
    "y_pred = lr.predict(X_val)\n",
    "\n",
    "mean_squared_error(y_val, y_pred, squared=False)"
   ]
  },
  {
   "cell_type": "code",
   "execution_count": 26,
   "id": "22bf6f8b",
   "metadata": {
    "ExecuteTime": {
     "end_time": "2022-05-27T22:33:03.677338Z",
     "start_time": "2022-05-27T22:33:03.659375Z"
    },
    "hidden": true
   },
   "outputs": [],
   "source": [
    "with open('../artifacts/models/lin_reg.bin', 'wb') as f_out:\n",
    "    pickle.dump((dv, lr), f_out)"
   ]
  },
  {
   "cell_type": "markdown",
   "id": "fb7ca9e5",
   "metadata": {},
   "source": [
    "#### Model Training with MLFlow (basics with mlflow.log_artifact)"
   ]
  },
  {
   "cell_type": "code",
   "execution_count": 27,
   "id": "1464985f",
   "metadata": {
    "ExecuteTime": {
     "end_time": "2022-05-27T22:33:14.343678Z",
     "start_time": "2022-05-27T22:33:13.743155Z"
    }
   },
   "outputs": [
    {
     "name": "stderr",
     "output_type": "stream",
     "text": [
      "2022/05/28 00:33:14 INFO mlflow.store.db.utils: Creating initial MLflow database tables...\n",
      "2022/05/28 00:33:14 INFO mlflow.store.db.utils: Updating database tables\n",
      "INFO  [alembic.runtime.migration] Context impl SQLiteImpl.\n",
      "INFO  [alembic.runtime.migration] Will assume non-transactional DDL.\n",
      "INFO  [alembic.runtime.migration] Running upgrade  -> 451aebb31d03, add metric step\n",
      "INFO  [alembic.runtime.migration] Running upgrade 451aebb31d03 -> 90e64c465722, migrate user column to tags\n",
      "INFO  [alembic.runtime.migration] Running upgrade 90e64c465722 -> 181f10493468, allow nulls for metric values\n",
      "INFO  [alembic.runtime.migration] Running upgrade 181f10493468 -> df50e92ffc5e, Add Experiment Tags Table\n",
      "INFO  [alembic.runtime.migration] Running upgrade df50e92ffc5e -> 7ac759974ad8, Update run tags with larger limit\n",
      "INFO  [alembic.runtime.migration] Running upgrade 7ac759974ad8 -> 89d4b8295536, create latest metrics table\n",
      "INFO  [89d4b8295536_create_latest_metrics_table_py] Migration complete!\n",
      "INFO  [alembic.runtime.migration] Running upgrade 89d4b8295536 -> 2b4d017a5e9b, add model registry tables to db\n",
      "INFO  [2b4d017a5e9b_add_model_registry_tables_to_db_py] Adding registered_models and model_versions tables to database.\n",
      "INFO  [2b4d017a5e9b_add_model_registry_tables_to_db_py] Migration complete!\n",
      "INFO  [alembic.runtime.migration] Running upgrade 2b4d017a5e9b -> cfd24bdc0731, Update run status constraint with killed\n",
      "INFO  [alembic.runtime.migration] Running upgrade cfd24bdc0731 -> 0a8213491aaa, drop_duplicate_killed_constraint\n",
      "INFO  [alembic.runtime.migration] Running upgrade 0a8213491aaa -> 728d730b5ebd, add registered model tags table\n",
      "INFO  [alembic.runtime.migration] Running upgrade 728d730b5ebd -> 27a6a02d2cf1, add model version tags table\n",
      "INFO  [alembic.runtime.migration] Running upgrade 27a6a02d2cf1 -> 84291f40a231, add run_link to model_version\n",
      "INFO  [alembic.runtime.migration] Running upgrade 84291f40a231 -> a8c4a736bde6, allow nulls for run_id\n",
      "INFO  [alembic.runtime.migration] Running upgrade a8c4a736bde6 -> 39d1c3be5f05, add_is_nan_constraint_for_metrics_tables_if_necessary\n",
      "INFO  [alembic.runtime.migration] Running upgrade 39d1c3be5f05 -> c48cb773bb87, reset_default_value_for_is_nan_in_metrics_table_for_mysql\n",
      "INFO  [alembic.runtime.migration] Running upgrade c48cb773bb87 -> bd07f7e963c5, create index on run_uuid\n",
      "INFO  [alembic.runtime.migration] Context impl SQLiteImpl.\n",
      "INFO  [alembic.runtime.migration] Will assume non-transactional DDL.\n",
      "2022/05/28 00:33:14 INFO mlflow.tracking.fluent: Experiment with name 'nyc-taxi-experiment' does not exist. Creating a new experiment.\n"
     ]
    },
    {
     "data": {
      "text/plain": [
       "<Experiment: artifact_location='./mlruns/1', experiment_id='1', lifecycle_stage='active', name='nyc-taxi-experiment', tags={}>"
      ]
     },
     "execution_count": 27,
     "metadata": {},
     "output_type": "execute_result"
    }
   ],
   "source": [
    "import mlflow\n",
    "\n",
    "mlflow.set_tracking_uri(\"sqlite:///mlflow.db\") # required to enable model registry in local development\n",
    "mlflow.set_experiment(\"nyc-taxi-experiment\")"
   ]
  },
  {
   "cell_type": "code",
   "execution_count": 30,
   "id": "a4999b94",
   "metadata": {
    "ExecuteTime": {
     "end_time": "2022-05-27T22:38:41.768662Z",
     "start_time": "2022-05-27T22:37:16.696834Z"
    }
   },
   "outputs": [],
   "source": [
    "with mlflow.start_run():\n",
    "\n",
    "    mlflow.set_tag(\"developer\", \"irem\")\n",
    "\n",
    "    mlflow.log_param(\"train-data-path\", \"../artifacts/data/fhv_tripdata_2021-01.parquet\")\n",
    "    mlflow.log_param(\"valid-data-path\", \"../artifacts/data/fhv_tripdata_2021-02.parquet\")\n",
    "\n",
    "    alpha = 0.1\n",
    "    mlflow.log_param(\"alpha\", alpha)\n",
    "    lr = Lasso(alpha)\n",
    "    lr.fit(X_train, y_train)\n",
    "\n",
    "    y_pred = lr.predict(X_val)\n",
    "    rmse = mean_squared_error(y_val, y_pred, squared=False)\n",
    "    mlflow.log_metric(\"rmse\", rmse)\n",
    "    \n",
    "    # 1st and not-the best way of saving the models :D (with `log_artifact`)\n",
    "    # we dont know how to use the model at all...\n",
    "    # the second more standtized approach will come in next examples\n",
    "    with open('../artifacts/models/lasso.bin', 'wb') as f_out:\n",
    "        pickle.dump((dv, lr), f_out)\n",
    "    mlflow.log_artifact(local_path=\"../artifacts/models/lasso.bin\", artifact_path=\"models_pickle\")"
   ]
  },
  {
   "cell_type": "markdown",
   "id": "4f8030d6",
   "metadata": {},
   "source": [
    "#### Model Training with MLFlow (advanced)"
   ]
  },
  {
   "cell_type": "markdown",
   "id": "9f75d199",
   "metadata": {
    "heading_collapsed": true
   },
   "source": [
    "##### Selecting Best Parameters with hyperopt\n",
    "\n",
    "--> Took forever for me (more than 10 hours, therefore either skip that or reduce the run.. by changin max_evals,and/or num_boost_round)"
   ]
  },
  {
   "cell_type": "code",
   "execution_count": 32,
   "id": "8ebb8ff8",
   "metadata": {
    "ExecuteTime": {
     "end_time": "2022-05-27T22:39:19.333502Z",
     "start_time": "2022-05-27T22:39:19.271884Z"
    },
    "hidden": true
   },
   "outputs": [],
   "source": [
    "train = xgb.DMatrix(X_train, label=y_train)\n",
    "valid = xgb.DMatrix(X_val, label=y_val)"
   ]
  },
  {
   "cell_type": "code",
   "execution_count": 35,
   "id": "c2d84b26",
   "metadata": {
    "ExecuteTime": {
     "end_time": "2022-05-27T22:39:55.590122Z",
     "start_time": "2022-05-27T22:39:55.578723Z"
    },
    "code_folding": [],
    "hidden": true
   },
   "outputs": [],
   "source": [
    "def objective(hyper_params):\n",
    "    with mlflow.start_run():\n",
    "        mlflow.set_tag(\"model\", \"xgboost\")\n",
    "        mlflow.log_params(hyper_params)\n",
    "        booster = xgb.train(\n",
    "            params=hyper_params,\n",
    "            dtrain=train,\n",
    "            num_boost_round=1000,\n",
    "            evals=[(valid, 'validation')],\n",
    "            early_stopping_rounds=50\n",
    "        )\n",
    "        y_pred = booster.predict(valid)\n",
    "        rmse = mean_squared_error(y_val, y_pred, squared=False)\n",
    "        mlflow.log_metric(\"rmse\", rmse)\n",
    "\n",
    "    return {'loss': rmse, 'status': STATUS_OK}"
   ]
  },
  {
   "cell_type": "code",
   "execution_count": 36,
   "id": "6b1f77f5",
   "metadata": {
    "ExecuteTime": {
     "end_time": "2022-05-27T22:40:00.453764Z",
     "start_time": "2022-05-27T22:39:57.097255Z"
    },
    "hidden": true
   },
   "outputs": [
    {
     "name": "stdout",
     "output_type": "stream",
     "text": [
      "[00:39:57] WARNING: /Users/runner/work/xgboost/xgboost/python-package/build/temp.macosx-11.0-arm64-3.8/xgboost/src/objective/regression_obj.cu:203: reg:linear is now deprecated in favor of reg:squarederror.\n",
      "[0]\tvalidation-rmse:14.70117                                                                                                                                                                     \n",
      "[1]\tvalidation-rmse:12.52364                                                                                                                                                                     \n",
      "[2]\tvalidation-rmse:11.74730                                                                                                                                                                     \n",
      "[3]\tvalidation-rmse:11.45784                                                                                                                                                                     \n",
      "[4]\tvalidation-rmse:11.33779                                                                                                                                                                     \n",
      "[5]\tvalidation-rmse:11.27445                                                                                                                                                                     \n",
      "[6]\tvalidation-rmse:11.23646                                                                                                                                                                     \n",
      "[7]\tvalidation-rmse:11.20923                                                                                                                                                                     \n",
      "[8]\tvalidation-rmse:11.19002                                                                                                                                                                     \n",
      "[9]\tvalidation-rmse:11.17466                                                                                                                                                                     \n",
      "100%|████████████████████████████████████████████████████████████████████████████████████████████████████████████████████████████| 1/1 [00:03<00:00,  3.34s/trial, best loss: 11.174656963297386]\n"
     ]
    }
   ],
   "source": [
    "search_space = {\n",
    "    'max_depth': scope.int(hp.quniform('max_depth', 4, 100, 1)),\n",
    "    'learning_rate': hp.loguniform('learning_rate', -3, 0),\n",
    "    'reg_alpha': hp.loguniform('reg_alpha', -5, -1),\n",
    "    'reg_lambda': hp.loguniform('reg_lambda', -6, -1),\n",
    "    'min_child_weight': hp.loguniform('min_child_weight', -1, 3),\n",
    "    'objective': 'reg:linear',\n",
    "    'seed': 42\n",
    "}\n",
    "\n",
    "best_result = fmin(\n",
    "    fn=objective,# function that typically contains code for model training and loss calculation.\n",
    "    space=search_space, # defines the hyperparameter space to search.\n",
    "    algo=tpe.suggest,\n",
    "    max_evals=50,# mumber of hyperparameter settings to try\n",
    "    trials=Trials() # use Trials when you call distributed training algorithms\n",
    ")"
   ]
  },
  {
   "cell_type": "markdown",
   "id": "1b53a5fa",
   "metadata": {},
   "source": [
    "##### Running XGBoost Experiment with selected parameters"
   ]
  },
  {
   "cell_type": "code",
   "execution_count": 37,
   "id": "fc4d5283",
   "metadata": {
    "ExecuteTime": {
     "end_time": "2022-05-27T22:40:39.537492Z",
     "start_time": "2022-05-27T22:40:39.528087Z"
    }
   },
   "outputs": [],
   "source": [
    "mlflow.xgboost.autolog(disable=True)"
   ]
  },
  {
   "cell_type": "code",
   "execution_count": null,
   "id": "0e8cd729",
   "metadata": {
    "ExecuteTime": {
     "start_time": "2022-05-27T22:40:41.686Z"
    },
    "code_folding": []
   },
   "outputs": [
    {
     "name": "stdout",
     "output_type": "stream",
     "text": [
      "[00:40:41] WARNING: /Users/runner/work/xgboost/xgboost/python-package/build/temp.macosx-11.0-arm64-3.8/xgboost/src/objective/regression_obj.cu:203: reg:linear is now deprecated in favor of reg:squarederror.\n",
      "[0]\tvalidation-rmse:18.99913\n",
      "[1]\tvalidation-rmse:17.89568\n",
      "[2]\tvalidation-rmse:16.93414\n",
      "[3]\tvalidation-rmse:16.10200\n",
      "[4]\tvalidation-rmse:15.38295\n",
      "[5]\tvalidation-rmse:14.76456\n",
      "[6]\tvalidation-rmse:14.23618\n",
      "[7]\tvalidation-rmse:13.78364\n",
      "[8]\tvalidation-rmse:13.40077\n",
      "[9]\tvalidation-rmse:13.07391\n",
      "[10]\tvalidation-rmse:12.79622\n",
      "[11]\tvalidation-rmse:12.56432\n",
      "[12]\tvalidation-rmse:12.36576\n",
      "[13]\tvalidation-rmse:12.19890\n",
      "[14]\tvalidation-rmse:12.05712\n",
      "[15]\tvalidation-rmse:11.93812\n",
      "[16]\tvalidation-rmse:11.83620\n",
      "[17]\tvalidation-rmse:11.75078\n",
      "[18]\tvalidation-rmse:11.67804\n",
      "[19]\tvalidation-rmse:11.61720\n",
      "[20]\tvalidation-rmse:11.56341\n",
      "[21]\tvalidation-rmse:11.51802\n",
      "[22]\tvalidation-rmse:11.48012\n",
      "[23]\tvalidation-rmse:11.44645\n",
      "[24]\tvalidation-rmse:11.41829\n",
      "[25]\tvalidation-rmse:11.39245\n",
      "[26]\tvalidation-rmse:11.37059\n",
      "[27]\tvalidation-rmse:11.35060\n",
      "[28]\tvalidation-rmse:11.33433\n",
      "[29]\tvalidation-rmse:11.31859\n",
      "[30]\tvalidation-rmse:11.30447\n",
      "[31]\tvalidation-rmse:11.29285\n",
      "[32]\tvalidation-rmse:11.28279\n",
      "[33]\tvalidation-rmse:11.27264\n",
      "[34]\tvalidation-rmse:11.26406\n",
      "[35]\tvalidation-rmse:11.25523\n",
      "[36]\tvalidation-rmse:11.24738\n",
      "[37]\tvalidation-rmse:11.24081\n",
      "[38]\tvalidation-rmse:11.23450\n",
      "[39]\tvalidation-rmse:11.22866\n",
      "[40]\tvalidation-rmse:11.22204\n",
      "[41]\tvalidation-rmse:11.21654\n",
      "[42]\tvalidation-rmse:11.21208\n",
      "[43]\tvalidation-rmse:11.20773\n",
      "[44]\tvalidation-rmse:11.20277\n",
      "[45]\tvalidation-rmse:11.19835\n",
      "[46]\tvalidation-rmse:11.19462\n",
      "[47]\tvalidation-rmse:11.19065\n",
      "[48]\tvalidation-rmse:11.18739\n",
      "[49]\tvalidation-rmse:11.18322\n",
      "[50]\tvalidation-rmse:11.17935\n",
      "[51]\tvalidation-rmse:11.17550\n",
      "[52]\tvalidation-rmse:11.17257\n",
      "[53]\tvalidation-rmse:11.16980\n",
      "[54]\tvalidation-rmse:11.16685\n",
      "[55]\tvalidation-rmse:11.16396\n",
      "[56]\tvalidation-rmse:11.16158\n",
      "[57]\tvalidation-rmse:11.15916\n",
      "[58]\tvalidation-rmse:11.15612\n",
      "[59]\tvalidation-rmse:11.15292\n",
      "[60]\tvalidation-rmse:11.14966\n",
      "[61]\tvalidation-rmse:11.14665\n",
      "[62]\tvalidation-rmse:11.14470\n",
      "[63]\tvalidation-rmse:11.14254\n",
      "[64]\tvalidation-rmse:11.14036\n",
      "[65]\tvalidation-rmse:11.13807\n",
      "[66]\tvalidation-rmse:11.13520\n",
      "[67]\tvalidation-rmse:11.13358\n",
      "[68]\tvalidation-rmse:11.13091\n",
      "[69]\tvalidation-rmse:11.12807\n",
      "[70]\tvalidation-rmse:11.12626\n",
      "[71]\tvalidation-rmse:11.12435\n",
      "[72]\tvalidation-rmse:11.12244\n",
      "[73]\tvalidation-rmse:11.12060\n",
      "[74]\tvalidation-rmse:11.11850\n",
      "[75]\tvalidation-rmse:11.11710\n",
      "[76]\tvalidation-rmse:11.11561\n",
      "[77]\tvalidation-rmse:11.11386\n",
      "[78]\tvalidation-rmse:11.11155\n",
      "[79]\tvalidation-rmse:11.10935\n",
      "[80]\tvalidation-rmse:11.10733\n",
      "[81]\tvalidation-rmse:11.10599\n",
      "[82]\tvalidation-rmse:11.10445\n",
      "[83]\tvalidation-rmse:11.10293\n",
      "[84]\tvalidation-rmse:11.10139\n",
      "[85]\tvalidation-rmse:11.10001\n",
      "[86]\tvalidation-rmse:11.09808\n",
      "[87]\tvalidation-rmse:11.09608\n",
      "[88]\tvalidation-rmse:11.09418\n",
      "[89]\tvalidation-rmse:11.09229\n",
      "[90]\tvalidation-rmse:11.09121\n",
      "[91]\tvalidation-rmse:11.08975\n",
      "[92]\tvalidation-rmse:11.08819\n",
      "[93]\tvalidation-rmse:11.08675\n",
      "[94]\tvalidation-rmse:11.08554\n",
      "[95]\tvalidation-rmse:11.08437\n",
      "[96]\tvalidation-rmse:11.08272\n",
      "[97]\tvalidation-rmse:11.08139\n",
      "[98]\tvalidation-rmse:11.07979\n",
      "[99]\tvalidation-rmse:11.07825\n",
      "[100]\tvalidation-rmse:11.07632\n",
      "[101]\tvalidation-rmse:11.07460\n",
      "[102]\tvalidation-rmse:11.07300\n",
      "[103]\tvalidation-rmse:11.07118\n",
      "[104]\tvalidation-rmse:11.06998\n",
      "[105]\tvalidation-rmse:11.06892\n",
      "[106]\tvalidation-rmse:11.06779\n",
      "[107]\tvalidation-rmse:11.06700\n",
      "[108]\tvalidation-rmse:11.06546\n",
      "[109]\tvalidation-rmse:11.06444\n",
      "[110]\tvalidation-rmse:11.06313\n",
      "[111]\tvalidation-rmse:11.06198\n",
      "[112]\tvalidation-rmse:11.06061\n",
      "[113]\tvalidation-rmse:11.05930\n",
      "[114]\tvalidation-rmse:11.05839\n",
      "[115]\tvalidation-rmse:11.05744\n",
      "[116]\tvalidation-rmse:11.05573\n",
      "[117]\tvalidation-rmse:11.05419\n",
      "[118]\tvalidation-rmse:11.05271\n",
      "[119]\tvalidation-rmse:11.05167\n",
      "[120]\tvalidation-rmse:11.05079\n",
      "[121]\tvalidation-rmse:11.04979\n",
      "[122]\tvalidation-rmse:11.04868\n",
      "[123]\tvalidation-rmse:11.04712\n",
      "[124]\tvalidation-rmse:11.04582\n",
      "[125]\tvalidation-rmse:11.04490\n",
      "[126]\tvalidation-rmse:11.04401\n",
      "[127]\tvalidation-rmse:11.04294\n",
      "[128]\tvalidation-rmse:11.04185\n",
      "[129]\tvalidation-rmse:11.04071\n",
      "[130]\tvalidation-rmse:11.03995\n",
      "[131]\tvalidation-rmse:11.03900\n",
      "[132]\tvalidation-rmse:11.03788\n",
      "[133]\tvalidation-rmse:11.03644\n",
      "[134]\tvalidation-rmse:11.03488\n",
      "[135]\tvalidation-rmse:11.03370\n",
      "[136]\tvalidation-rmse:11.03278\n",
      "[137]\tvalidation-rmse:11.03199\n",
      "[138]\tvalidation-rmse:11.03131\n",
      "[139]\tvalidation-rmse:11.03030\n",
      "[140]\tvalidation-rmse:11.02978\n",
      "[141]\tvalidation-rmse:11.02895\n",
      "[142]\tvalidation-rmse:11.02823\n",
      "[143]\tvalidation-rmse:11.02740\n",
      "[144]\tvalidation-rmse:11.02645\n",
      "[145]\tvalidation-rmse:11.02552\n",
      "[146]\tvalidation-rmse:11.02478\n",
      "[147]\tvalidation-rmse:11.02412\n",
      "[148]\tvalidation-rmse:11.02355\n",
      "[149]\tvalidation-rmse:11.02256\n",
      "[150]\tvalidation-rmse:11.02134\n",
      "[151]\tvalidation-rmse:11.02033\n",
      "[152]\tvalidation-rmse:11.01952\n",
      "[153]\tvalidation-rmse:11.01829\n",
      "[154]\tvalidation-rmse:11.01709\n",
      "[155]\tvalidation-rmse:11.01612\n",
      "[156]\tvalidation-rmse:11.01481\n",
      "[157]\tvalidation-rmse:11.01396\n",
      "[158]\tvalidation-rmse:11.01312\n",
      "[159]\tvalidation-rmse:11.01241\n",
      "[160]\tvalidation-rmse:11.01186\n",
      "[161]\tvalidation-rmse:11.01094\n",
      "[162]\tvalidation-rmse:11.01019\n",
      "[163]\tvalidation-rmse:11.00943\n",
      "[164]\tvalidation-rmse:11.00876\n",
      "[165]\tvalidation-rmse:11.00822\n",
      "[166]\tvalidation-rmse:11.00741\n",
      "[167]\tvalidation-rmse:11.00631\n",
      "[168]\tvalidation-rmse:11.00545\n",
      "[169]\tvalidation-rmse:11.00432\n",
      "[170]\tvalidation-rmse:11.00333\n",
      "[171]\tvalidation-rmse:11.00225\n",
      "[172]\tvalidation-rmse:11.00169\n",
      "[173]\tvalidation-rmse:11.00111\n",
      "[174]\tvalidation-rmse:11.00066\n",
      "[175]\tvalidation-rmse:11.00006\n",
      "[176]\tvalidation-rmse:10.99954\n",
      "[177]\tvalidation-rmse:10.99864\n",
      "[178]\tvalidation-rmse:10.99805\n",
      "[179]\tvalidation-rmse:10.99741\n",
      "[180]\tvalidation-rmse:10.99671\n",
      "[181]\tvalidation-rmse:10.99605\n",
      "[182]\tvalidation-rmse:10.99523\n",
      "[183]\tvalidation-rmse:10.99444\n",
      "[184]\tvalidation-rmse:10.99392\n",
      "[185]\tvalidation-rmse:10.99337\n",
      "[186]\tvalidation-rmse:10.99233\n",
      "[187]\tvalidation-rmse:10.99128\n",
      "[188]\tvalidation-rmse:10.99037\n",
      "[189]\tvalidation-rmse:10.98977\n",
      "[190]\tvalidation-rmse:10.98908\n",
      "[191]\tvalidation-rmse:10.98821\n",
      "[192]\tvalidation-rmse:10.98775\n",
      "[193]\tvalidation-rmse:10.98718\n",
      "[194]\tvalidation-rmse:10.98662\n",
      "[195]\tvalidation-rmse:10.98579\n",
      "[196]\tvalidation-rmse:10.98533\n",
      "[197]\tvalidation-rmse:10.98460\n",
      "[198]\tvalidation-rmse:10.98402\n",
      "[199]\tvalidation-rmse:10.98355\n",
      "[200]\tvalidation-rmse:10.98312\n",
      "[201]\tvalidation-rmse:10.98252\n",
      "[202]\tvalidation-rmse:10.98179\n",
      "[203]\tvalidation-rmse:10.98098\n",
      "[204]\tvalidation-rmse:10.98047\n",
      "[205]\tvalidation-rmse:10.98000\n",
      "[206]\tvalidation-rmse:10.97953\n",
      "[207]\tvalidation-rmse:10.97898\n",
      "[208]\tvalidation-rmse:10.97842\n",
      "[209]\tvalidation-rmse:10.97792\n",
      "[210]\tvalidation-rmse:10.97726\n",
      "[211]\tvalidation-rmse:10.97637\n",
      "[212]\tvalidation-rmse:10.97524\n",
      "[213]\tvalidation-rmse:10.97444\n",
      "[214]\tvalidation-rmse:10.97367\n",
      "[215]\tvalidation-rmse:10.97328\n",
      "[216]\tvalidation-rmse:10.97280\n",
      "[217]\tvalidation-rmse:10.97247\n",
      "[218]\tvalidation-rmse:10.97206\n",
      "[219]\tvalidation-rmse:10.97136\n",
      "[220]\tvalidation-rmse:10.97100\n",
      "[221]\tvalidation-rmse:10.97045\n",
      "[222]\tvalidation-rmse:10.96981\n",
      "[223]\tvalidation-rmse:10.96939\n",
      "[224]\tvalidation-rmse:10.96891\n",
      "[225]\tvalidation-rmse:10.96838\n",
      "[226]\tvalidation-rmse:10.96792\n",
      "[227]\tvalidation-rmse:10.96726\n",
      "[228]\tvalidation-rmse:10.96677\n",
      "[229]\tvalidation-rmse:10.96620\n",
      "[230]\tvalidation-rmse:10.96535\n",
      "[231]\tvalidation-rmse:10.96459\n",
      "[232]\tvalidation-rmse:10.96385\n",
      "[233]\tvalidation-rmse:10.96301\n",
      "[234]\tvalidation-rmse:10.96254\n",
      "[235]\tvalidation-rmse:10.96216\n",
      "[236]\tvalidation-rmse:10.96166\n",
      "[237]\tvalidation-rmse:10.96093\n",
      "[238]\tvalidation-rmse:10.96059\n",
      "[239]\tvalidation-rmse:10.95997\n",
      "[240]\tvalidation-rmse:10.95944\n",
      "[241]\tvalidation-rmse:10.95905\n",
      "[242]\tvalidation-rmse:10.95860\n",
      "[243]\tvalidation-rmse:10.95814\n",
      "[244]\tvalidation-rmse:10.95771\n",
      "[245]\tvalidation-rmse:10.95717\n",
      "[246]\tvalidation-rmse:10.95676\n",
      "[247]\tvalidation-rmse:10.95599\n",
      "[248]\tvalidation-rmse:10.95540\n",
      "[249]\tvalidation-rmse:10.95509\n",
      "[250]\tvalidation-rmse:10.95460\n",
      "[251]\tvalidation-rmse:10.95426\n",
      "[252]\tvalidation-rmse:10.95381\n",
      "[253]\tvalidation-rmse:10.95338\n",
      "[254]\tvalidation-rmse:10.95277\n",
      "[255]\tvalidation-rmse:10.95220\n",
      "[256]\tvalidation-rmse:10.95179\n",
      "[257]\tvalidation-rmse:10.95137\n",
      "[258]\tvalidation-rmse:10.95102\n",
      "[259]\tvalidation-rmse:10.95036\n",
      "[260]\tvalidation-rmse:10.94963\n",
      "[261]\tvalidation-rmse:10.94878\n"
     ]
    },
    {
     "name": "stdout",
     "output_type": "stream",
     "text": [
      "[262]\tvalidation-rmse:10.94808\n",
      "[263]\tvalidation-rmse:10.94746\n",
      "[264]\tvalidation-rmse:10.94704\n",
      "[265]\tvalidation-rmse:10.94664\n",
      "[266]\tvalidation-rmse:10.94618\n",
      "[267]\tvalidation-rmse:10.94591\n",
      "[268]\tvalidation-rmse:10.94547\n",
      "[269]\tvalidation-rmse:10.94510\n",
      "[270]\tvalidation-rmse:10.94474\n",
      "[271]\tvalidation-rmse:10.94451\n",
      "[272]\tvalidation-rmse:10.94422\n",
      "[273]\tvalidation-rmse:10.94393\n",
      "[274]\tvalidation-rmse:10.94336\n",
      "[275]\tvalidation-rmse:10.94277\n",
      "[276]\tvalidation-rmse:10.94223\n",
      "[277]\tvalidation-rmse:10.94156\n",
      "[278]\tvalidation-rmse:10.94116\n",
      "[279]\tvalidation-rmse:10.94085\n",
      "[280]\tvalidation-rmse:10.94045\n",
      "[281]\tvalidation-rmse:10.94008\n",
      "[282]\tvalidation-rmse:10.93963\n",
      "[283]\tvalidation-rmse:10.93938\n",
      "[284]\tvalidation-rmse:10.93896\n",
      "[285]\tvalidation-rmse:10.93852\n",
      "[286]\tvalidation-rmse:10.93803\n",
      "[287]\tvalidation-rmse:10.93765\n",
      "[288]\tvalidation-rmse:10.93733\n",
      "[289]\tvalidation-rmse:10.93700\n",
      "[290]\tvalidation-rmse:10.93640\n",
      "[291]\tvalidation-rmse:10.93576\n",
      "[292]\tvalidation-rmse:10.93502\n",
      "[293]\tvalidation-rmse:10.93453\n",
      "[294]\tvalidation-rmse:10.93398\n",
      "[295]\tvalidation-rmse:10.93372\n",
      "[296]\tvalidation-rmse:10.93335\n",
      "[297]\tvalidation-rmse:10.93305\n",
      "[298]\tvalidation-rmse:10.93264\n",
      "[299]\tvalidation-rmse:10.93222\n",
      "[300]\tvalidation-rmse:10.93190\n",
      "[301]\tvalidation-rmse:10.93151\n",
      "[302]\tvalidation-rmse:10.93114\n",
      "[303]\tvalidation-rmse:10.93053\n",
      "[304]\tvalidation-rmse:10.93007\n",
      "[305]\tvalidation-rmse:10.92973\n",
      "[306]\tvalidation-rmse:10.92911\n",
      "[307]\tvalidation-rmse:10.92862\n",
      "[308]\tvalidation-rmse:10.92814\n",
      "[309]\tvalidation-rmse:10.92786\n",
      "[310]\tvalidation-rmse:10.92758\n",
      "[311]\tvalidation-rmse:10.92729\n",
      "[312]\tvalidation-rmse:10.92690\n",
      "[313]\tvalidation-rmse:10.92654\n",
      "[314]\tvalidation-rmse:10.92623\n",
      "[315]\tvalidation-rmse:10.92586\n",
      "[316]\tvalidation-rmse:10.92548\n",
      "[317]\tvalidation-rmse:10.92504\n",
      "[318]\tvalidation-rmse:10.92474\n",
      "[319]\tvalidation-rmse:10.92414\n",
      "[320]\tvalidation-rmse:10.92356\n",
      "[321]\tvalidation-rmse:10.92286\n",
      "[322]\tvalidation-rmse:10.92239\n",
      "[323]\tvalidation-rmse:10.92214\n",
      "[324]\tvalidation-rmse:10.92179\n",
      "[325]\tvalidation-rmse:10.92143\n",
      "[326]\tvalidation-rmse:10.92108\n",
      "[327]\tvalidation-rmse:10.92070\n",
      "[328]\tvalidation-rmse:10.92041\n",
      "[329]\tvalidation-rmse:10.92015\n",
      "[330]\tvalidation-rmse:10.91990\n",
      "[331]\tvalidation-rmse:10.91962\n",
      "[332]\tvalidation-rmse:10.91935\n",
      "[333]\tvalidation-rmse:10.91903\n",
      "[334]\tvalidation-rmse:10.91869\n",
      "[335]\tvalidation-rmse:10.91845\n",
      "[336]\tvalidation-rmse:10.91816\n",
      "[337]\tvalidation-rmse:10.91790\n",
      "[338]\tvalidation-rmse:10.91765\n",
      "[339]\tvalidation-rmse:10.91701\n",
      "[340]\tvalidation-rmse:10.91673\n",
      "[341]\tvalidation-rmse:10.91633\n",
      "[342]\tvalidation-rmse:10.91574\n",
      "[343]\tvalidation-rmse:10.91518\n",
      "[344]\tvalidation-rmse:10.91458\n",
      "[345]\tvalidation-rmse:10.91412\n",
      "[346]\tvalidation-rmse:10.91382\n",
      "[347]\tvalidation-rmse:10.91358\n",
      "[348]\tvalidation-rmse:10.91331\n",
      "[349]\tvalidation-rmse:10.91300\n",
      "[350]\tvalidation-rmse:10.91269\n",
      "[351]\tvalidation-rmse:10.91225\n",
      "[352]\tvalidation-rmse:10.91172\n",
      "[353]\tvalidation-rmse:10.91139\n",
      "[354]\tvalidation-rmse:10.91113\n",
      "[355]\tvalidation-rmse:10.91083\n",
      "[356]\tvalidation-rmse:10.91054\n",
      "[357]\tvalidation-rmse:10.91024\n",
      "[358]\tvalidation-rmse:10.90994\n",
      "[359]\tvalidation-rmse:10.90962\n",
      "[360]\tvalidation-rmse:10.90934\n"
     ]
    }
   ],
   "source": [
    "with mlflow.start_run():\n",
    "    \n",
    "    train = xgb.DMatrix(X_train, label=y_train)\n",
    "    valid = xgb.DMatrix(X_val, label=y_val)\n",
    "\n",
    "    best_params = {\n",
    "        'learning_rate': 0.09585355369315604,\n",
    "        'max_depth': 30,\n",
    "        'min_child_weight': 1.060597050922164,\n",
    "        'objective': 'reg:linear',\n",
    "        'reg_alpha': 0.018060244040060163,\n",
    "        'reg_lambda': 0.011658731377413597,\n",
    "        'seed': 42\n",
    "    }\n",
    "\n",
    "    mlflow.log_params(best_params)\n",
    "\n",
    "    booster = xgb.train(\n",
    "        params=best_params,\n",
    "        dtrain=train,\n",
    "        num_boost_round=1000,\n",
    "        evals=[(valid, 'validation')],\n",
    "        early_stopping_rounds=50\n",
    "    )\n",
    "\n",
    "    y_pred = booster.predict(valid)\n",
    "    rmse = mean_squared_error(y_val, y_pred, squared=False)\n",
    "    mlflow.log_metric(\"rmse\", rmse)\n",
    "\n",
    "    with open(\"../artifacts/models/preprocessor.b\", \"wb\") as f_out:\n",
    "        pickle.dump(dv, f_out)\n",
    "    mlflow.log_artifact(\"../artifacts/models/preprocessor.b\", artifact_path=\"preprocessor\")\n",
    "    \n",
    "    # 2nd and Better way to save model\n",
    "    # Save as MLFlow Model and give examples, how to use it in UI\n",
    "    mlflow.xgboost.log_model(booster, artifact_path=\"models_mlflow\") "
   ]
  },
  {
   "cell_type": "markdown",
   "id": "c5472f9e",
   "metadata": {},
   "source": [
    "##### Running SkLearn Experiments"
   ]
  },
  {
   "cell_type": "code",
   "execution_count": null,
   "id": "87614b82",
   "metadata": {
    "ExecuteTime": {
     "start_time": "2022-05-27T18:48:05.928Z"
    }
   },
   "outputs": [
    {
     "name": "stderr",
     "output_type": "stream",
     "text": [
      "2022/05/27 20:48:05 WARNING mlflow.utils.autologging_utils: You are using an unsupported version of sklearn. If you encounter errors during autologging, try upgrading / downgrading sklearn to a supported version, or try upgrading MLflow.\n"
     ]
    }
   ],
   "source": [
    "mlflow.sklearn.autolog()\n",
    "\n",
    "for model_class in (RandomForestRegressor, GradientBoostingRegressor, ExtraTreesRegressor, LinearSVR):\n",
    "\n",
    "    with mlflow.start_run():\n",
    "\n",
    "        mlflow.log_param(\"train-data-path\", \"../artifacts/data/fhv_tripdata_2021-01.parquet\")\n",
    "        mlflow.log_param(\"valid-data-path\", \"../artifacts/data/fhv_tripdata_2021-02.parquet\")\n",
    "        with open(\"../artifacts/models/preprocessor.b\", \"wb\") as f_out:\n",
    "            pickle.dump(dv, f_out)\n",
    "        mlflow.log_artifact(\"../artifacts/models/preprocessor.b\", artifact_path=\"preprocessor\")\n",
    "\n",
    "        mlmodel = model_class()\n",
    "        mlmodel.fit(X_train, y_train)\n",
    "\n",
    "        y_pred = mlmodel.predict(X_val)\n",
    "        rmse = mean_squared_error(y_val, y_pred, squared=False)\n",
    "        mlflow.log_metric(\"rmse\", rmse)\n",
    "        "
   ]
  },
  {
   "cell_type": "markdown",
   "id": "04849250",
   "metadata": {},
   "source": [
    "##### Tracking API and experiment and run access"
   ]
  },
  {
   "cell_type": "code",
   "execution_count": null,
   "id": "7a3e6d90",
   "metadata": {},
   "outputs": [],
   "source": [
    "from mlflow.tracking import MlflowClient\n",
    "from mlflow.entities import ViewType"
   ]
  },
  {
   "cell_type": "code",
   "execution_count": null,
   "id": "12634962",
   "metadata": {},
   "outputs": [],
   "source": [
    "client = MlflowCleint(tracking_uri=\"sqlite:///mlflow.db\")"
   ]
  },
  {
   "cell_type": "code",
   "execution_count": null,
   "id": "37671f72",
   "metadata": {},
   "outputs": [],
   "source": [
    "client.list_experiments()"
   ]
  },
  {
   "cell_type": "code",
   "execution_count": null,
   "id": "c7628508",
   "metadata": {},
   "outputs": [],
   "source": [
    "runs = client.search_runs(\n",
    "    experiment_ids = \"1\",\n",
    "    filter_string=\"metrics.rmse < 6.8\",\n",
    "    run_view_type=ViewType.ACTIVE_ONLY,\n",
    "    max_results=5,\n",
    "    order_by=[\"metrics.rmse ASC\"]\n",
    ")"
   ]
  },
  {
   "cell_type": "code",
   "execution_count": null,
   "id": "a35531db",
   "metadata": {},
   "outputs": [],
   "source": [
    "for run in runs:\n",
    "    print(f\"run id: {run.info.run_id}, rsme:{run.data.metrics[\"rsme\"].4f}\")"
   ]
  },
  {
   "cell_type": "code",
   "execution_count": null,
   "id": "6f03f3f0",
   "metadata": {},
   "outputs": [],
   "source": []
  }
 ],
 "metadata": {
  "interpreter": {
   "hash": "0848c9d6c7d415ad6c477ff7ff8e98694d1a4aa96d0deee89244642e6b630036"
  },
  "kernelspec": {
   "display_name": "Python 3 (ipykernel)",
   "language": "python",
   "name": "python3"
  },
  "language_info": {
   "codemirror_mode": {
    "name": "ipython",
    "version": 3
   },
   "file_extension": ".py",
   "mimetype": "text/x-python",
   "name": "python",
   "nbconvert_exporter": "python",
   "pygments_lexer": "ipython3",
   "version": "3.8.9"
  },
  "toc": {
   "base_numbering": 1,
   "nav_menu": {},
   "number_sections": true,
   "sideBar": true,
   "skip_h1_title": false,
   "title_cell": "Table of Contents",
   "title_sidebar": "Contents",
   "toc_cell": false,
   "toc_position": {},
   "toc_section_display": true,
   "toc_window_display": false
  }
 },
 "nbformat": 4,
 "nbformat_minor": 5
}
