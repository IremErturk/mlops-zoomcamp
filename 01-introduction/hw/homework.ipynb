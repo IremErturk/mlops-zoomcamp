{
 "cells": [
  {
   "cell_type": "code",
   "execution_count": 1,
   "id": "b47c3f0d",
   "metadata": {
    "ExecuteTime": {
     "end_time": "2022-05-23T11:50:05.005430Z",
     "start_time": "2022-05-23T11:50:01.803688Z"
    }
   },
   "outputs": [],
   "source": [
    "import urllib\n",
    "import pandas as pd\n",
    "from typing import List\n",
    "\n",
    "import seaborn as sns\n",
    "import matplotlib.pyplot as plt\n",
    "\n",
    "from sklearn.feature_extraction import DictVectorizer\n",
    "from sklearn.linear_model import LinearRegression\n",
    "from sklearn.metrics import mean_squared_error"
   ]
  },
  {
   "cell_type": "markdown",
   "id": "0dbe888a",
   "metadata": {
    "heading_collapsed": true
   },
   "source": [
    "#### Q1. Downloading the data\n",
    "\n",
    "We'll use [the same NYC taxi dataset](https://www1.nyc.gov/site/tlc/about/tlc-trip-record-data.page),\n",
    "but instead of \"Green Taxi Trip Records\", we'll use \"For-Hire Vehicle Trip Records\".\n",
    "\n",
    "Download the data for **January and February 2021**.\n",
    "\n",
    "Note that you need **For-Hire Vehicle Trip Records**, not \"High Volume For-Hire Vehicle Trip Records\".\n",
    "\n",
    "Read the data for January. How many records are there?\n",
    "\n",
    "- [] 1054112\n",
    "- [x] 1154112\n",
    "- [] 1254112\n",
    "- [] 1354112\n"
   ]
  },
  {
   "cell_type": "code",
   "execution_count": 2,
   "id": "2365558c",
   "metadata": {
    "ExecuteTime": {
     "end_time": "2022-05-23T09:17:55.002322Z",
     "start_time": "2022-05-23T09:17:54.993185Z"
    },
    "hidden": true
   },
   "outputs": [],
   "source": [
    "TRIP_DATA_BASE_URL = \"https://nyc-tlc.s3.amazonaws.com/trip+data\"\n",
    "DATASET_NAME = \"fhv_tripdata\""
   ]
  },
  {
   "cell_type": "code",
   "execution_count": 17,
   "id": "2f70de5e",
   "metadata": {
    "ExecuteTime": {
     "end_time": "2022-05-23T10:08:43.209173Z",
     "start_time": "2022-05-23T10:08:43.182176Z"
    },
    "hidden": true
   },
   "outputs": [],
   "source": [
    "def download_data(file_identifier: str, output_path=\"../../artifacts/data\"):\n",
    "    file_url = f'{TRIP_DATA_BASE_URL}/{DATASET_NAME}_{file_identifier}.parquet'\n",
    "    file = urllib.request.FancyURLopener()\n",
    "    file.retrieve(file_url, f\"{output_path}/{DATASET_NAME}_{file_identifier}.parquet\")\n"
   ]
  },
  {
   "cell_type": "code",
   "execution_count": 18,
   "id": "5f07541a",
   "metadata": {},
   "outputs": [
    {
     "name": "stderr",
     "output_type": "stream",
     "text": [
      "/var/folders/jq/rts_nxdd6r35jfsprmkf6r4r0000gn/T/ipykernel_66825/2291121065.py:3: DeprecationWarning: FancyURLopener style of invoking requests is deprecated. Use newer urlopen functions/methods\n",
      "  file = urllib.request.FancyURLopener()\n"
     ]
    }
   ],
   "source": [
    "download_data(file_identifier=\"2021-01\")\n",
    "download_data(file_identifier=\"2021-02\")"
   ]
  },
  {
   "cell_type": "code",
   "execution_count": 21,
   "id": "eeae34bf",
   "metadata": {},
   "outputs": [],
   "source": [
    "def read_parquet_to_df(file_identifier:str):\n",
    "    file_name = f'{DATASET_NAME}_{file_identifier}.parquet'\n",
    "    df = pd.read_parquet(f'../../artifacts/data/{file_name}', engine=\"pyarrow\")\n",
    "    return df"
   ]
  },
  {
   "cell_type": "code",
   "execution_count": 24,
   "id": "d77da5f4",
   "metadata": {
    "ExecuteTime": {
     "end_time": "2022-05-23T10:08:44.634986Z",
     "start_time": "2022-05-23T10:08:44.482384Z"
    },
    "hidden": true
   },
   "outputs": [
    {
     "name": "stdout",
     "output_type": "stream",
     "text": [
      "(1154112, 7)\n",
      "(1037692, 7)\n"
     ]
    }
   ],
   "source": [
    "df_january=read_parquet_to_df(file_identifier=\"2021-01\") # 8078784\n",
    "print(df_january.shape)\n",
    "df_february=read_parquet_to_df(file_identifier=\"2021-02\") # 7263844\n",
    "print(df_february.shape)"
   ]
  },
  {
   "cell_type": "markdown",
   "id": "1dba9ff5",
   "metadata": {
    "heading_collapsed": true
   },
   "source": [
    "#### Q2. Computing duration\n",
    "\n",
    "Now let's compute the `duration` variable. It should contain the duration of a ride in minutes. \n",
    "\n",
    "What's the average trip duration in January?\n",
    "\n",
    "- [] 15.16\n",
    "- [x] 19.16\n",
    "- [] 24.16\n",
    "- [] 29.16\n"
   ]
  },
  {
   "cell_type": "code",
   "execution_count": 25,
   "id": "965e3496",
   "metadata": {
    "ExecuteTime": {
     "end_time": "2022-05-23T11:43:44.874105Z",
     "start_time": "2022-05-23T11:43:44.862698Z"
    },
    "hidden": true
   },
   "outputs": [],
   "source": [
    "def find_mean_duration_time(df:pd.DataFrame):\n",
    "    df['duration'] = df.dropOff_datetime - df.pickup_datetime\n",
    "    df.duration = df.duration.apply(lambda td: td.total_seconds() / 60)\n",
    "    # df = df[(df.duration >= 1) & (df.duration <= 60)]\n",
    "    return df"
   ]
  },
  {
   "cell_type": "code",
   "execution_count": 26,
   "id": "822eb974",
   "metadata": {
    "ExecuteTime": {
     "end_time": "2022-05-23T11:43:58.766126Z",
     "start_time": "2022-05-23T11:43:58.664049Z"
    },
    "hidden": true
   },
   "outputs": [],
   "source": [
    "df_january = read_parquet_to_df(file_identifier=\"2021-01\")"
   ]
  },
  {
   "cell_type": "code",
   "execution_count": 27,
   "id": "0c7cb948",
   "metadata": {
    "ExecuteTime": {
     "end_time": "2022-05-23T11:44:07.371868Z",
     "start_time": "2022-05-23T11:44:03.731333Z"
    },
    "hidden": true
   },
   "outputs": [
    {
     "data": {
      "text/plain": [
       "19.167224093791006"
      ]
     },
     "execution_count": 27,
     "metadata": {},
     "output_type": "execute_result"
    }
   ],
   "source": [
    "df_january = find_mean_duration_time(df_january)\n",
    "df_january[\"duration\"].mean()"
   ]
  },
  {
   "cell_type": "markdown",
   "id": "f4a03a23",
   "metadata": {},
   "source": [
    "### Data Prepration\n",
    "\n",
    "Check the distribution of the duration variable. There are some outliers. \n",
    "\n",
    "Let's remove them and keep only the records where the duration was between 1 and 60 minutes (inclusive).\n",
    "\n",
    "How many records did you drop? "
   ]
  },
  {
   "cell_type": "code",
   "execution_count": 28,
   "id": "788fbe93",
   "metadata": {
    "ExecuteTime": {
     "end_time": "2022-05-23T11:44:37.894205Z",
     "start_time": "2022-05-23T11:44:37.785033Z"
    }
   },
   "outputs": [
    {
     "name": "stdout",
     "output_type": "stream",
     "text": [
      "(1154112, 8)\n",
      "(1109826, 8)\n"
     ]
    }
   ],
   "source": [
    "print(df_january.shape) \n",
    "df_january = df_january[(df_january.duration >= 1) & (df_january.duration <= 60)]\n",
    "print(df_january.shape)"
   ]
  },
  {
   "cell_type": "markdown",
   "id": "2087edaf",
   "metadata": {
    "heading_collapsed": true
   },
   "source": [
    "#### Q3. Missing values\n",
    "\n",
    "The features we'll use for our model are the pickup and dropoff location IDs. \n",
    "\n",
    "But they have a lot of missing values there. Let's replace them with \"-1\".\n",
    "\n",
    "What's the fractions of missing values for the pickup location ID? I.e. fraction of \"-1\"s after you filled the NAs.\n",
    "\n",
    "- [] 53%\n",
    "- [] 63%\n",
    "- [] 73%\n",
    "- [x] 83%"
   ]
  },
  {
   "cell_type": "code",
   "execution_count": 29,
   "id": "073699a0",
   "metadata": {
    "ExecuteTime": {
     "end_time": "2022-05-23T11:44:54.069772Z",
     "start_time": "2022-05-23T11:44:53.935522Z"
    },
    "hidden": true
   },
   "outputs": [],
   "source": [
    "df_january.fillna({'PUlocationID':-1, 'DOlocationID':-1}, inplace=True)"
   ]
  },
  {
   "cell_type": "code",
   "execution_count": 31,
   "id": "65419202",
   "metadata": {
    "ExecuteTime": {
     "end_time": "2022-05-23T11:44:58.815080Z",
     "start_time": "2022-05-23T11:44:58.777020Z"
    },
    "hidden": true
   },
   "outputs": [
    {
     "data": {
      "text/plain": [
       "-1.0      83.527328\n",
       " 221.0     0.750568\n",
       " 206.0     0.612438\n",
       " 129.0     0.484671\n",
       " 115.0     0.367805\n",
       "            ...    \n",
       " 111.0     0.000451\n",
       " 27.0      0.000360\n",
       " 34.0      0.000270\n",
       " 2.0       0.000180\n",
       " 110.0     0.000090\n",
       "Name: PUlocationID, Length: 262, dtype: float64"
      ]
     },
     "execution_count": 31,
     "metadata": {},
     "output_type": "execute_result"
    }
   ],
   "source": [
    "(df_january['PUlocationID'].value_counts()/df_january['PUlocationID'].count())*100"
   ]
  },
  {
   "cell_type": "markdown",
   "id": "e9d43465",
   "metadata": {
    "heading_collapsed": true
   },
   "source": [
    "#### Q4. One-hot encoding\n",
    "\n",
    "Let's apply one-hot encoding to the pickup and dropoff location IDs. We'll use only these two features for our model. \n",
    "\n",
    "* Turn the dataframe into a list of dictionaries\n",
    "* Fit a dictionary vectorizer \n",
    "* Get a feature matrix from it\n",
    "\n",
    "What's the dimensionality of this matrix? (The number of columns).\n",
    "\n",
    "- [x] 2\n",
    "- [] 152\n",
    "- [] 352\n",
    "- [] 525\n",
    "- [] 725"
   ]
  },
  {
   "cell_type": "code",
   "execution_count": 32,
   "id": "2fe1eb6e",
   "metadata": {
    "ExecuteTime": {
     "end_time": "2022-05-23T11:52:44.145712Z",
     "start_time": "2022-05-23T11:52:44.133173Z"
    },
    "hidden": true
   },
   "outputs": [],
   "source": [
    "df = df_january"
   ]
  },
  {
   "cell_type": "code",
   "execution_count": 33,
   "id": "f4f51279",
   "metadata": {
    "ExecuteTime": {
     "end_time": "2022-05-23T11:52:47.503118Z",
     "start_time": "2022-05-23T11:52:45.280966Z"
    },
    "hidden": true
   },
   "outputs": [],
   "source": [
    "categorical = [\"PUlocationID\", \"DOlocationID\"]\n",
    "train_dicts = df[categorical].to_dict(orient='records')\n",
    "\n",
    "dv = DictVectorizer()\n",
    "X_train = dv.fit_transform(train_dicts)\n",
    "feature_matrix=pd.DataFrame(X_train.todense(), columns=dv.feature_names_)\n",
    "\n",
    "target = \"duration\"\n",
    "y_train = df[target].values"
   ]
  },
  {
   "cell_type": "markdown",
   "id": "202f3701",
   "metadata": {},
   "source": [
    "#### Q5. Training a model\n",
    "\n",
    "Now let's use the feature matrix from the previous step to train a model. \n",
    "\n",
    "* Train a plain linear regression model with default parameters \n",
    "* Calculate the RMSE of the model on the training data\n",
    "\n",
    "What's the RMSE on train?\n",
    "\n",
    "- [] 5.52\n",
    "- [x] 10.52\n",
    "- [] 15.52\n",
    "- [] 20.52"
   ]
  },
  {
   "cell_type": "code",
   "execution_count": 34,
   "id": "f424bbb8",
   "metadata": {
    "ExecuteTime": {
     "end_time": "2022-05-23T12:08:40.155074Z",
     "start_time": "2022-05-23T12:08:37.200589Z"
    }
   },
   "outputs": [
    {
     "data": {
      "text/plain": [
       "11.415432830521663"
      ]
     },
     "execution_count": 34,
     "metadata": {},
     "output_type": "execute_result"
    }
   ],
   "source": [
    "lr = LinearRegression()\n",
    "lr.fit(X_train, y_train)\n",
    "\n",
    "y_pred = lr.predict(X_train)\n",
    "\n",
    "mean_squared_error(y_train, y_pred, squared=False)"
   ]
  },
  {
   "cell_type": "code",
   "execution_count": 35,
   "id": "11076118",
   "metadata": {
    "ExecuteTime": {
     "end_time": "2022-05-23T12:08:47.951783Z",
     "start_time": "2022-05-23T12:08:45.886409Z"
    }
   },
   "outputs": [
    {
     "name": "stderr",
     "output_type": "stream",
     "text": [
      "/Users/iremertuerk/workspace-personal/mlops-zoomcamp/.venv/lib/python3.8/site-packages/seaborn/distributions.py:2619: FutureWarning: `distplot` is a deprecated function and will be removed in a future version. Please adapt your code to use either `displot` (a figure-level function with similar flexibility) or `histplot` (an axes-level function for histograms).\n",
      "  warnings.warn(msg, FutureWarning)\n",
      "/Users/iremertuerk/workspace-personal/mlops-zoomcamp/.venv/lib/python3.8/site-packages/seaborn/distributions.py:2619: FutureWarning: `distplot` is a deprecated function and will be removed in a future version. Please adapt your code to use either `displot` (a figure-level function with similar flexibility) or `histplot` (an axes-level function for histograms).\n",
      "  warnings.warn(msg, FutureWarning)\n"
     ]
    },
    {
     "data": {
      "text/plain": [
       "<matplotlib.legend.Legend at 0x28a236370>"
      ]
     },
     "execution_count": 35,
     "metadata": {},
     "output_type": "execute_result"
    },
    {
     "data": {
      "image/png": "[encoded data removed]",
      "text/plain": [
       "<Figure size 432x288 with 1 Axes>"
      ]
     },
     "metadata": {
      "needs_background": "light"
     },
     "output_type": "display_data"
    }
   ],
   "source": [
    "sns.distplot(y_pred, label='prediction')\n",
    "sns.distplot(y_train, label='actual')\n",
    "\n",
    "plt.legend()"
   ]
  },
  {
   "cell_type": "markdown",
   "id": "c886c153",
   "metadata": {
    "heading_collapsed": true
   },
   "source": [
    "#### Q6. Evaluating the model\n",
    "\n",
    "Now let's apply this model to the validation dataset (Feb 2021). \n",
    "\n",
    "What's the RMSE on validation?\n",
    "\n",
    "- [] 6.01\n",
    "- [x] 11.01\n",
    "- [] 16.01\n",
    "- [] 21.01"
   ]
  },
  {
   "cell_type": "code",
   "execution_count": 36,
   "id": "3c901120",
   "metadata": {
    "ExecuteTime": {
     "end_time": "2022-05-23T12:04:19.808842Z",
     "start_time": "2022-05-23T12:04:19.802813Z"
    },
    "hidden": true
   },
   "outputs": [],
   "source": [
    "def download_data(file_identifier: str, output_path=\"../../artifacts/data\"):\n",
    "    file_url = f'{TRIP_DATA_BASE_URL}/{DATASET_NAME}_{file_identifier}.parquet'\n",
    "    file = urllib.request.FancyURLopener()\n",
    "    file.retrieve(file_url, f\"{output_path}/{DATASET_NAME}_{file_identifier}.parquet\")\n",
    "    \n",
    "def read_parquet_to_df(file_identifier:str):\n",
    "    file_name = f'{DATASET_NAME}_{file_identifier}.parquet'\n",
    "    df = pd.read_parquet(f'../../artifacts/data/{file_name}', engine=\"pyarrow\")\n",
    "    return df"
   ]
  },
  {
   "cell_type": "code",
   "execution_count": 37,
   "id": "8f5ba14b",
   "metadata": {
    "ExecuteTime": {
     "end_time": "2022-05-23T12:04:44.823901Z",
     "start_time": "2022-05-23T12:04:44.811744Z"
    },
    "hidden": true
   },
   "outputs": [],
   "source": [
    "def preprocess(file_identifier:str):\n",
    "    df = read_parquet_to_df(file_identifier)\n",
    "    # 2. Calculate duration column\n",
    "    df['duration'] = df.dropOff_datetime - df.pickup_datetime\n",
    "    df.duration = df.duration.apply(lambda td: td.total_seconds() / 60)\n",
    "    \n",
    "    # 3. Filter rows\n",
    "    df = df[(df.duration >= 1) & (df.duration <= 60)]\n",
    "    \n",
    "    # 4. Fill NAs\n",
    "    df.fillna({'PUlocationID':-1, 'DOlocationID':-1}, inplace=True)\n",
    "    \n",
    "    categorical = [\"PUlocationID\", \"DOlocationID\"]\n",
    "    df[categorical] = df[categorical].astype(str)\n",
    "\n",
    "    return df"
   ]
  },
  {
   "cell_type": "code",
   "execution_count": 38,
   "id": "640bcfd5",
   "metadata": {
    "ExecuteTime": {
     "end_time": "2022-05-23T12:07:01.468954Z",
     "start_time": "2022-05-23T12:06:52.999773Z"
    },
    "hidden": true
   },
   "outputs": [],
   "source": [
    "df_train = preprocess('2021-01')\n",
    "df_validate = preprocess('2021-02')"
   ]
  },
  {
   "cell_type": "code",
   "execution_count": 39,
   "id": "de3fdb2d",
   "metadata": {
    "ExecuteTime": {
     "end_time": "2022-05-23T12:07:08.400995Z",
     "start_time": "2022-05-23T12:07:03.527480Z"
    },
    "hidden": true
   },
   "outputs": [],
   "source": [
    "categorical = [\"PUlocationID\", \"DOlocationID\"]\n",
    "dv = DictVectorizer()\n",
    "\n",
    "# Prepare features\n",
    "train_dicts = df_train[categorical].to_dict(orient='records')\n",
    "X_train = dv.fit_transform(train_dicts)\n",
    "\n",
    "validate_dicts = df_validate[categorical].to_dict(orient='records')\n",
    "X_validate = dv.transform(validate_dicts)\n",
    "\n",
    "# Prepare values\n",
    "target = 'duration'\n",
    "y_train = df_train[target].values\n",
    "y_validate = df_validate[target].values"
   ]
  },
  {
   "cell_type": "code",
   "execution_count": 40,
   "id": "bd237bbd",
   "metadata": {
    "ExecuteTime": {
     "end_time": "2022-05-23T12:07:14.469713Z",
     "start_time": "2022-05-23T12:07:11.573064Z"
    },
    "hidden": true
   },
   "outputs": [
    {
     "data": {
      "text/plain": [
       "11.01428736186454"
      ]
     },
     "execution_count": 40,
     "metadata": {},
     "output_type": "execute_result"
    }
   ],
   "source": [
    "# Train and Calculate the RSME\n",
    "lr = LinearRegression()\n",
    "lr.fit(X_train, y_train)\n",
    "\n",
    "y_pred = lr.predict(X_validate)\n",
    "\n",
    "mean_squared_error(y_validate, y_pred, squared=False)"
   ]
  },
  {
   "cell_type": "code",
   "execution_count": null,
   "id": "f13955ce",
   "metadata": {},
   "outputs": [],
   "source": []
  }
 ],
 "metadata": {
  "interpreter": {
   "hash": "faef5cf8e6352bbf7809e81a03806ddde915ff9aadd96bf3c9d28c78d9ad8073"
  },
  "kernelspec": {
   "display_name": "Python 3.8.9 ('.venv': poetry)",
   "language": "python",
   "name": "python3"
  },
  "language_info": {
   "codemirror_mode": {
    "name": "ipython",
    "version": 3
   },
   "file_extension": ".py",
   "mimetype": "text/x-python",
   "name": "python",
   "nbconvert_exporter": "python",
   "pygments_lexer": "ipython3",
   "version": "3.8.9"
  },
  "toc": {
   "base_numbering": 1,
   "nav_menu": {},
   "number_sections": true,
   "sideBar": true,
   "skip_h1_title": false,
   "title_cell": "Table of Contents",
   "title_sidebar": "Contents",
   "toc_cell": false,
   "toc_position": {},
   "toc_section_display": true,
   "toc_window_display": true
  }
 },
 "nbformat": 4,
 "nbformat_minor": 5
}
